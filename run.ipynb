{
  "nbformat": 4,
  "nbformat_minor": 0,
  "metadata": {
    "colab": {
      "private_outputs": true,
      "provenance": [],
      "authorship_tag": "ABX9TyPxGmOXHV6wfuDyp77/3IFS"
    },
    "kernelspec": {
      "name": "python3",
      "display_name": "Python 3"
    },
    "language_info": {
      "name": "python"
    }
  },
  "cells": [
    {
      "cell_type": "markdown",
      "source": [
        "# Assessor\n",
        "\n",
        "[![Open In Colab](https://colab.research.google.com/assets/colab-badge.svg)](https://colab.research.google.com/github/karpathy/llama2.c/blob/master/run.ipynb)\n",
        "\n",
        "More details can be found in the [README.md](README.md) ."
      ],
      "metadata": {
        "id": "ISJh_hudh3uk"
      }
    },
    {
      "cell_type": "code",
      "execution_count": null,
      "metadata": {
        "cellView": "form",
        "id": "MaHWJY8rhPTl"
      },
      "outputs": [],
      "source": [
        "#@title Clone Project\n",
        "!git clone https://github.com/karpathy/nanoGPT.git\n",
        "!git clone https://github.com/Majdoddin/assessor.git\n",
        "%cd assessor"
      ]
    },
    {
      "cell_type": "code",
      "source": [
        "#@title Install Requirements\n",
        "\n",
        "!pip install torch matplotlib seaborn boolean.py"
      ],
      "metadata": {
        "cellView": "form",
        "id": "1KUoqMf6iJl9"
      },
      "execution_count": null,
      "outputs": []
    },
    {
      "cell_type": "code",
      "source": [
        "#@title Download the Model checkpoint\n",
        "\n",
        "!wget -P cwd https://huggingface.co/majdoddin/assessor/resolve/main/state-depth-6-2.pt"
      ],
      "metadata": {
        "cellView": "form",
        "id": "DGVcJvBNjb-h"
      },
      "execution_count": null,
      "outputs": []
    },
    {
      "cell_type": "code",
      "source": [
        "#@title Run Assessor\n",
        "\n",
        "!PYTHONPATH=\"${PYTHONPATH}:/content/nanoGPT\" && cd cwd && python ../assessor.py"
      ],
      "metadata": {
        "cellView": "form",
        "id": "ljSfZz9NpOfC"
      },
      "execution_count": null,
      "outputs": []
    },
    {
      "cell_type": "code",
      "source": [
        "#@title Show Results\n",
        "%run analysis.py cwd/output.txt\n"
      ],
      "metadata": {
        "cellView": "form",
        "id": "gvbvxUwisDWX"
      },
      "execution_count": null,
      "outputs": []
    }
  ]
}